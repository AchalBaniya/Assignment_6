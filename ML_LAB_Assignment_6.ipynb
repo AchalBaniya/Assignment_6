{
 "cells": [
  {
   "cell_type": "code",
   "execution_count": 2,
   "id": "926a60fd",
   "metadata": {},
   "outputs": [
    {
     "data": {
      "image/png": "[encoded data removed]",
      "text/plain": [
       "<Figure size 800x600 with 1 Axes>"
      ]
     },
     "metadata": {},
     "output_type": "display_data"
    }
   ],
   "source": [
    "import matplotlib.pyplot as plt\n",
    "import pandas as pd\n",
    "\n",
    "# Sample data (replace with your own dataset)\n",
    "data = pd.read_csv('hdddata.csv')\n",
    "    \n",
    "\n",
    "\n",
    "# Create a DataFrame\n",
    "df = pd.DataFrame(data)\n",
    "\n",
    "# Extract the two features\n",
    "feature1 = df['failure']\n",
    "feature2 = df['smart_1_normalized']\n",
    "\n",
    "# Create a scatter plot\n",
    "plt.figure(figsize=(8, 6))\n",
    "plt.scatter(feature1, feature2, c='b', marker='o', label='Data Points')\n",
    "plt.xlabel('failure ')\n",
    "plt.ylabel(' smart_1_normalized')\n",
    "plt.title('Scatter Plot of Feature1 vs. Feature2')\n",
    "plt.legend()\n",
    "plt.grid(True)\n",
    "plt.show()\n"
   ]
  },
  {
   "cell_type": "code",
   "execution_count": 20,
   "id": "a279f597",
   "metadata": {},
   "outputs": [
    {
     "name": "stdout",
     "output_type": "stream",
     "text": [
      "Coefficients: \n",
      " [-0.00014358]\n",
      "Mean Squared Error: 0.03\n",
      "Coefficient of determination: 0.00\n"
     ]
    }
   ],
   "source": [
    "import pandas as pd\n",
    "from sklearn.linear_model import LinearRegression\n",
    "from sklearn.metrics import mean_squared_error\n",
    "\n",
    "# Load your dataset into a DataFrame\n",
    "data = pd.read_csv('hdddata.csv')\n",
    "\n",
    "# Drop rows with missing values in 'failure' and 'smart_1_normalized' columns\n",
    "data_cleaned = data.dropna(subset=['failure', 'smart_1_normalized'])\n",
    "\n",
    "# Split the data into the independent variable (X) and the dependent variable (y)\n",
    "X = data_cleaned[['smart_1_normalized']]\n",
    "y = data_cleaned['failure']\n",
    "\n",
    "# Create a linear regression model\n",
    "model = LinearRegression()\n",
    "\n",
    "# Fit the model to the data\n",
    "model.fit(X, y)\n",
    "\n",
    "# Make predictions\n",
    "y_pred = model.predict(X)\n",
    "print(\"Coefficients: \\n\", model.coef_)\n",
    "\n",
    "# Calculate the mean squared error\n",
    "mse = mean_squared_error(y, y_pred)\n",
    "print(f\"Mean Squared Error: {mse:.2f}\")\n",
    "print(\"Coefficient of determination: %.2f\" % r2_score(y, y_pred))\n"
   ]
  },
  {
   "cell_type": "code",
   "execution_count": 22,
   "id": "0102e439",
   "metadata": {},
   "outputs": [
    {
     "name": "stdout",
     "output_type": "stream",
     "text": [
      "Accuracy: 0.97\n",
      "Confusion Matrix:\n",
      " [[73457     0]\n",
      " [ 2556     0]]\n",
      "Classification Report:\n",
      "               precision    recall  f1-score   support\n",
      "\n",
      "           0       0.97      1.00      0.98     73457\n",
      "           1       0.00      0.00      0.00      2556\n",
      "\n",
      "    accuracy                           0.97     76013\n",
      "   macro avg       0.48      0.50      0.49     76013\n",
      "weighted avg       0.93      0.97      0.95     76013\n",
      "\n"
     ]
    },
    {
     "name": "stderr",
     "output_type": "stream",
     "text": [
      "C:\\Users\\91993\\anaconda3\\Lib\\site-packages\\sklearn\\metrics\\_classification.py:1469: UndefinedMetricWarning: Precision and F-score are ill-defined and being set to 0.0 in labels with no predicted samples. Use `zero_division` parameter to control this behavior.\n",
      "  _warn_prf(average, modifier, msg_start, len(result))\n",
      "C:\\Users\\91993\\anaconda3\\Lib\\site-packages\\sklearn\\metrics\\_classification.py:1469: UndefinedMetricWarning: Precision and F-score are ill-defined and being set to 0.0 in labels with no predicted samples. Use `zero_division` parameter to control this behavior.\n",
      "  _warn_prf(average, modifier, msg_start, len(result))\n",
      "C:\\Users\\91993\\anaconda3\\Lib\\site-packages\\sklearn\\metrics\\_classification.py:1469: UndefinedMetricWarning: Precision and F-score are ill-defined and being set to 0.0 in labels with no predicted samples. Use `zero_division` parameter to control this behavior.\n",
      "  _warn_prf(average, modifier, msg_start, len(result))\n"
     ]
    }
   ],
   "source": [
    "import pandas as pd\n",
    "from sklearn.model_selection import train_test_split\n",
    "from sklearn.linear_model import LogisticRegression\n",
    "from sklearn.metrics import accuracy_score, classification_report, confusion_matrix\n",
    "\n",
    "# Load   dataset  \n",
    "data = pd.read_csv('hdddata.csv ')\n",
    "\n",
    "# Drop rows with missing values in 'failure' and 'smart_1_normalized' columns\n",
    "data_cleaned = data.dropna(subset=['failure', 'smart_1_normalized'])\n",
    "\n",
    "# Split the data into the independent variable (X) and the dependent variable (y)\n",
    "X = data_cleaned[['smart_1_normalized']]\n",
    "y = data_cleaned['failure']\n",
    "\n",
    "\n",
    "# Split the data into training and testing sets\n",
    "X_train, X_test, y_train, y_test = train_test_split(X, y, test_size=0.2, random_state=42)\n",
    "\n",
    "# Create and train the logistic regression model\n",
    "model = LogisticRegression()\n",
    "model.fit(X_train, y_train)\n",
    "\n",
    "# Make predictions on the test set\n",
    "y_pred = model.predict(X_test)\n",
    "\n",
    "# Evaluate the model\n",
    "accuracy = accuracy_score(y_test, y_pred)\n",
    "confusion = confusion_matrix(y_test, y_pred)\n",
    "classification_rep = classification_report(y_test, y_pred)\n",
    "\n",
    "print(f\"Accuracy: {accuracy:.2f}\")\n",
    "print(\"Confusion Matrix:\\n\", confusion)\n",
    "print(\"Classification Report:\\n\", classification_rep)\n"
   ]
  },
  {
   "cell_type": "code",
   "execution_count": 24,
   "id": "eb20214b",
   "metadata": {},
   "outputs": [
    {
     "name": "stdout",
     "output_type": "stream",
     "text": [
      "Mean Squared Error (Regression Tree): 0.03\n",
      "Mean Squared Error (k-NN Regressor): 0.04\n"
     ]
    }
   ],
   "source": [
    "import pandas as pd\n",
    "from sklearn.tree import DecisionTreeRegressor\n",
    "from sklearn.neighbors import KNeighborsRegressor\n",
    "import numpy as np\n",
    "\n",
    "# Load the dataset\n",
    "data = pd.read_csv('hdddata.csv')\n",
    "data_cleaned = data.dropna(subset=['failure', 'smart_1_normalized','smart_3_normalized'])\n",
    "\n",
    "# Split the data into the independent variable (X) and the dependent variable (y)\n",
    "\n",
    "# Select the features and the target variable\n",
    "X = data_cleaned[['smart_1_normalized', 'smart_3_normalized']]\n",
    "y = data_cleaned['failure']\n",
    "\n",
    "# Convert 'failure' to binary class (1 for failure, 0 for non-failure)\n",
    "y = y.apply(lambda x: 1 if x > 0 else 0)\n",
    "# Create the regression tree model\n",
    "model_tree = DecisionTreeRegressor()\n",
    "\n",
    "# Train the model\n",
    "model_tree.fit(X, y)\n",
    "\n",
    "# Make predictions for the same data (for demonstration purposes)\n",
    "predictions_tree = model_tree.predict(X)\n",
    "\n",
    "# Calculate Mean Squared Error (MSE) as a measure of model performance\n",
    "mse_tree = np.mean((predictions_tree - y) ** 2)\n",
    "print(f\"Mean Squared Error (Regression Tree): {mse_tree:.2f}\")\n",
    "# Create the k-NN regressor model\n",
    "model_knn = KNeighborsRegressor(n_neighbors=5)  # You can adjust the number of neighbors\n",
    "\n",
    "# Train the model\n",
    "model_knn.fit(X, y)\n",
    "\n",
    "# Make predictions for the same data (for demonstration purposes)\n",
    "predictions_knn = model_knn.predict(X)\n",
    "\n",
    "# Calculate Mean Squared Error (MSE) as a measure of model performance\n",
    "mse_knn = np.mean((predictions_knn - y) ** 2)\n",
    "print(f\"Mean Squared Error (k-NN Regressor): {mse_knn:.2f}\")\n"
   ]
  },
  {
   "cell_type": "code",
   "execution_count": null,
   "id": "bc483007",
   "metadata": {},
   "outputs": [],
   "source": []
  }
 ],
 "metadata": {
  "kernelspec": {
   "display_name": "Python 3 (ipykernel)",
   "language": "python",
   "name": "python3"
  },
  "language_info": {
   "codemirror_mode": {
    "name": "ipython",
    "version": 3
   },
   "file_extension": ".py",
   "mimetype": "text/x-python",
   "name": "python",
   "nbconvert_exporter": "python",
   "pygments_lexer": "ipython3",
   "version": "3.11.4"
  }
 },
 "nbformat": 4,
 "nbformat_minor": 5
}
